{
 "cells": [
  {
   "cell_type": "markdown",
   "metadata": {},
   "source": [
    "# YOLOv5"
   ]
  },
  {
   "cell_type": "markdown",
   "metadata": {},
   "source": [
    "## Model"
   ]
  },
  {
   "cell_type": "code",
   "execution_count": null,
   "metadata": {},
   "outputs": [],
   "source": [
    "import torch\n",
    "import os\n",
    "import numpy as np\n",
    "import cv2 as cv\n",
    "import time\n",
    "\n",
    "model = torch.hub.load('ultralytics/yolov5', 'yolov5s', pretrained=True, trust_repo=True)"
   ]
  },
  {
   "cell_type": "code",
   "execution_count": null,
   "metadata": {},
   "outputs": [],
   "source": [
    "def put_bboxs(img, result, threshold):\n",
    "    object_ids = []\n",
    "    id_counter = 1\n",
    "    for bbox, label, conf in zip(result.xyxy[0][:,:4], result.pred[0][:,5], result.pred[0][:,4]):\n",
    "        if conf >= threshold:\n",
    "            x1, y1, x2, y2 = map(int, bbox[:4])\n",
    "            class_name = result.names[int(label)]\n",
    "            \n",
    "            cv.rectangle(img, (x1, y1), (x2, y2), (0, 255, 0), 7)\n",
    "            \n",
    "            label_text = str(id_counter) + \"-\" + str(class_name) + \": {:.2f}\".format(conf)\n",
    "            cv.putText(img, label_text, (x1, y1 - 10), cv.FONT_HERSHEY_SIMPLEX, 1.5, (0, 0, 0), 6)\n",
    "            \n",
    "            object_ids.append(id_counter)\n",
    "            id_counter = id_counter + 1\n",
    "        else:\n",
    "            # -1 id means model is not confident enough\n",
    "            object_ids.append(-1)\n",
    "\n",
    "    return object_ids"
   ]
  },
  {
   "cell_type": "code",
   "execution_count": null,
   "metadata": {},
   "outputs": [],
   "source": [
    "def calculate_angles(img, result):\n",
    "    # list of objects center pixels offsets according to images center point\n",
    "    # negative: left/up\n",
    "    # positive: right/down\n",
    "    # X:row axis, determines how high or low an object is\n",
    "    # Y:column axis, determines how left or right an object is\n",
    "    im_s = img.shape\n",
    "\n",
    "    # finding the angles of object according to camera, most left(y=-1):-50 degrees, most right(y=+1):+50 degrees\n",
    "    object_angles = [(\n",
    "                    round((((c[1] + c[3])/2 - im_s[0]/2) / (im_s[0]/2) * 5).item())*10,\n",
    "                    round((((c[0] + c[2])/2 - im_s[1]/2) / (im_s[1]/2) * 5).item())*10)\n",
    "                    for c in result.xyxy[0][:,:4]]\n",
    "\n",
    "    return object_angles"
   ]
  },
  {
   "cell_type": "code",
   "execution_count": null,
   "metadata": {},
   "outputs": [],
   "source": [
    "def display_img(img):\n",
    "    cv.namedWindow('result', cv.WINDOW_NORMAL)\n",
    "    cv.imshow('result', img)\n",
    "    cv.waitKey(0)\n",
    "    cv.destroyAllWindows()"
   ]
  },
  {
   "cell_type": "markdown",
   "metadata": {},
   "source": [
    "## Local Images"
   ]
  },
  {
   "cell_type": "code",
   "execution_count": null,
   "metadata": {},
   "outputs": [],
   "source": [
    "folder_path = \"./YOLO_test_images\"\n",
    "images = os.listdir(folder_path)\n",
    "\n",
    "for img_name in images:\n",
    "    img = cv.imread(os.path.join(folder_path, img_name))\n",
    "    \n",
    "    result = model(img)\n",
    "\n",
    "    object_ids = put_bboxs(img, result, 0.60)\n",
    "    object_angles = calculate_angles(img, result)\n",
    "    object_labels = [result.names[int(l)] for l in result.pred[0][:,5]]\n",
    "    \n",
    "    display_img(img)"
   ]
  },
  {
   "cell_type": "code",
   "execution_count": null,
   "metadata": {},
   "outputs": [],
   "source": [
    "print(\"ID\\tCLASS\\tLEFT-RIGHT ANGLE\")\n",
    "for id, l, d in zip(object_ids, object_labels, object_angles):\n",
    "    print(id,\"\\t\",l,\"   \",\"\\t\",d)"
   ]
  },
  {
   "cell_type": "markdown",
   "metadata": {},
   "source": [
    "## Local Video"
   ]
  },
  {
   "cell_type": "code",
   "execution_count": null,
   "metadata": {},
   "outputs": [],
   "source": [
    "video_path = './YOLO_test_videos/video1.webm'\n",
    "cap = cv.VideoCapture(video_path)\n",
    "\n",
    "if not cap.isOpened():\n",
    "    print(\"Error: Could not open video file.\")\n",
    "    exit()\n",
    "\n",
    "fps = 5\n",
    "frame_interval = 1 / fps\n",
    "\n",
    "while True:\n",
    "    start_time = time.time()\n",
    "    ret, img = cap.read()\n",
    "    if not ret:\n",
    "        break\n",
    "\n",
    "    result = model(img)\n",
    "\n",
    "    object_ids = put_bboxs(img, result, 0.60)\n",
    "    object_angles = calculate_angles(img, result)\n",
    "    object_labels = [result.names[int(l)] for l in result.pred[0][:,5]]\n",
    "\n",
    "    cv.namedWindow('result', cv.WINDOW_NORMAL)\n",
    "    cv.imshow('result', img)\n",
    "\n",
    "    if cv.waitKey(1) & 0xFF == ord('q'):\n",
    "        break\n",
    "\n",
    "    elapsed_time = time.time() - start_time\n",
    "    time_to_wait = max(0, frame_interval - elapsed_time)\n",
    "    time.sleep(time_to_wait)\n",
    "\n",
    "cap.release()\n",
    "cv.destroyAllWindows()"
   ]
  },
  {
   "cell_type": "markdown",
   "metadata": {},
   "source": [
    "## Gstreamer"
   ]
  },
  {
   "cell_type": "code",
   "execution_count": null,
   "metadata": {},
   "outputs": [],
   "source": [
    "video_path = './YOLO_test_videos/video1.mp4'\n",
    "pipeline = f'filesrc location={video_path} ! matroskademux ! vp8dec ! videoconvert ! appsink'\n",
    "\n",
    "cap = cv.VideoCapture(pipeline, cv.CAP_GSTREAMER)\n",
    "\n",
    "if not cap.isOpened():\n",
    "    print(\"Error: Could not open video file.\")\n",
    "    print(8/0)\n",
    "\n",
    "frame_rate = 5\n",
    "frame_interval = 1 / frame_rate\n",
    "\n",
    "while True:\n",
    "    start_time = time.time()\n",
    "    ret, img = cap.read()\n",
    "    if not ret:\n",
    "        break\n",
    "\n",
    "    result = model(img)\n",
    "\n",
    "    object_ids = put_bboxs(img, result, 0.60)\n",
    "    object_angles = calculate_angles(img, result)\n",
    "    object_labels = [result.names[int(l)] for l in result.pred[0][:,5]]\n",
    "    \n",
    "    cv.namedWindow('result', cv.WINDOW_NORMAL)\n",
    "    cv.imshow('result', img)\n",
    "\n",
    "    if cv.waitKey(1) & 0xFF == ord('q'):\n",
    "        break\n",
    "\n",
    "    elapsed_time = time.time() - start_time\n",
    "    time_to_wait = max(0, frame_interval - elapsed_time)\n",
    "    time.sleep(time_to_wait)\n",
    "\n",
    "cap.release()\n",
    "cv.destroyAllWindows()\n"
   ]
  },
  {
   "cell_type": "markdown",
   "metadata": {},
   "source": [
    "# YOLOv8"
   ]
  },
  {
   "cell_type": "markdown",
   "metadata": {},
   "source": [
    "## Model"
   ]
  },
  {
   "cell_type": "code",
   "execution_count": null,
   "metadata": {},
   "outputs": [],
   "source": [
    "# Load a model\n",
    "# model = YOLO(\"yolov8n.yaml\")  # build a new model from scratch\n",
    "# model = YOLO(\"yolov8s-seg.pt\")  # load a pretrained model (recommended for training)\n",
    "\n",
    "# Use the model\n",
    "# model.train(data=\"coco128.yaml\", epochs=3)  # train the model\n",
    "# metrics = model.val()  # evaluate model performance on the validation set\n",
    "# results = model(\"https://ultralytics.com/images/bus.jpg\")  # predict on an image\n",
    "# path = model.export(format=\"onnx\")  # export the model to ONNX format"
   ]
  },
  {
   "cell_type": "code",
   "execution_count": null,
   "metadata": {},
   "outputs": [],
   "source": [
    "from ultralytics import YOLO\n",
    "import cv2 as cv\n",
    "import torch\n",
    "import os\n",
    "import numpy as np\n",
    "import time\n",
    "\n",
    "model = YOLO(\"yolov8s-seg.pt\") # small YOLOv8 for segmentation"
   ]
  },
  {
   "cell_type": "code",
   "execution_count": null,
   "metadata": {},
   "outputs": [],
   "source": [
    "# result[0].boxes.data = bbox data in format:\n",
    "\"\"\"\n",
    "tensor([[5.1427e+01, 3.9802e+02, 2.4646e+02, 9.0317e+02, 9.0121e-01, 0.0000e+00],\n",
    "        [6.6840e+02, 3.9336e+02, 8.0955e+02, 8.7632e+02, 8.8721e-01, 0.0000e+00],\n",
    "        [2.2226e+02, 4.0550e+02, 3.4572e+02, 8.6009e+02, 8.8701e-01, 0.0000e+00],\n",
    "        [2.1634e+01, 2.2947e+02, 8.0414e+02, 7.4868e+02, 8.7066e-01, 5.0000e+00],\n",
    "        [3.1326e-01, 5.4515e+02, 7.6508e+01, 8.7436e+02, 7.3195e-01, 0.0000e+00],\n",
    "        [2.8495e+02, 4.8044e+02, 3.0199e+02, 5.2454e+02, 3.9280e-01, 2.7000e+01],\n",
    "        [6.6887e+02, 8.2729e+02, 8.0940e+02, 8.8368e+02, 3.0749e-01, 3.6000e+01]])\n",
    "\"\"\"\n",
    "\n",
    "## result[0].masks.data = segmentation data in format:\n",
    "\"\"\"\n",
    "tensor([[[0., 0., 0.,  ..., 0., 0., 0.],\n",
    "         [0., 0., 0.,  ..., 0., 0., 0.],\n",
    "         [0., 0., 0.,  ..., 0., 0., 0.],\n",
    "         ...,\n",
    "         [0., 0., 0.,  ..., 0., 0., 0.],\n",
    "         [0., 0., 0.,  ..., 0., 0., 0.],\n",
    "         [0., 0., 0.,  ..., 0., 0., 0.]],\n",
    "\n",
    "\"\"\""
   ]
  },
  {
   "cell_type": "code",
   "execution_count": null,
   "metadata": {},
   "outputs": [],
   "source": [
    "def draw_bbox_id_text_confidance(image, result, draw_rectangle = True, draw_label_text = True, threshold= 0.8):\n",
    "    object_ids = []\n",
    "    id_counter = 1\n",
    "\n",
    "    for [a, b, c, d, conf, pred_id] in result[0].boxes.data:\n",
    "        if conf.item() > threshold:\n",
    "            lu, ru, ld, rd = int(a.item()), int(b.item()), int(c.item()), int(d.item())\n",
    "\n",
    "            if draw_rectangle:\n",
    "                cv.rectangle(image, (lu, ru), (ld, rd), (0, 255, 0), 7)\n",
    "            if draw_label_text:\n",
    "                label_text = str(id_counter) + \"-\" + str(result[0].names[pred_id.item()]) + \": {:.2f}\".format(conf.item())\n",
    "                cv.putText(image, label_text, (lu, ru - 10), cv.FONT_HERSHEY_SIMPLEX, 1.5, (0, 0, 0), 6)\n",
    "            \n",
    "            object_ids.append(id_counter)\n",
    "            id_counter = id_counter + 1\n",
    "        else:\n",
    "            # -1 id means model is not confident enough\n",
    "            object_ids.append(-1)\n",
    "\n",
    "    return object_ids"
   ]
  },
  {
   "cell_type": "code",
   "execution_count": null,
   "metadata": {},
   "outputs": [],
   "source": [
    "def calculate_angles(image, result):\n",
    "    # list of objects center pixels offsets according to images center point\n",
    "    # negative: left/up\n",
    "    # positive: right/down\n",
    "    # X:row axis, determines how high or low an object is\n",
    "    # Y:column axis, determines how left or right an object is\n",
    "    im_s = image.shape\n",
    "\n",
    "    # finding the angles of object according to camera, most left(y=-1):-50 degrees, most right(y=+1):+50 degrees\n",
    "    object_angles = [(\n",
    "                    round((((c[1] + c[3])/2 - im_s[0]/2) / (im_s[0]/2) * 5).item())*10,\n",
    "                    round((((c[0] + c[2])/2 - im_s[1]/2) / (im_s[1]/2) * 5).item())*10)\n",
    "                    for c in result[0].boxes.data[:,:4]]\n",
    "\n",
    "    return object_angles"
   ]
  },
  {
   "cell_type": "code",
   "execution_count": null,
   "metadata": {},
   "outputs": [],
   "source": [
    "def display_img(img):\n",
    "    cv.namedWindow('result', cv.WINDOW_NORMAL)\n",
    "    cv.imshow('result', img)\n",
    "    cv.waitKey(0)\n",
    "    cv.destroyAllWindows()"
   ]
  },
  {
   "cell_type": "code",
   "execution_count": null,
   "metadata": {},
   "outputs": [],
   "source": [
    "image = cv.imread(\"./bus.jpg\")\n",
    "result = model(image)"
   ]
  },
  {
   "cell_type": "markdown",
   "metadata": {},
   "source": [
    "## Local Images"
   ]
  },
  {
   "cell_type": "code",
   "execution_count": null,
   "metadata": {},
   "outputs": [],
   "source": [
    "folder_path = \"./YOLO_test_images\"\n",
    "images = os.listdir(folder_path)\n",
    "\n",
    "threshold = 0.8\n",
    "for img_name in images:\n",
    "    img = cv.imread(os.path.join(folder_path, img_name))\n",
    "    \n",
    "    result = model(img)\n",
    "\n",
    "    wanted_objects = result[0].boxes.data[:,4] > threshold\n",
    "    annotated_frame = result[0][wanted_objects].plot()\n",
    "    \n",
    "    \"\"\" Calculating angle, label etc.\n",
    "    object_ids = draw_bbox_id_text_confidance(img, result, threshold=0.8)\n",
    "    object_angles = calculate_angles(img, result)\n",
    "    object_labels = [result[0].names[x.item()] for x in result[0].boxes.data[:, 5]]\n",
    "    \"\"\"\n",
    "\n",
    "    display_img(annotated_frame)"
   ]
  },
  {
   "cell_type": "code",
   "execution_count": null,
   "metadata": {},
   "outputs": [],
   "source": [
    "folder_path = \"./YOLO_test_images\"\n",
    "images = os.listdir(folder_path)\n",
    "\n",
    "for img_name in images:\n",
    "    img = cv.imread(os.path.join(folder_path, img_name))\n",
    "    \n",
    "    result = model(img)\n",
    "\n",
    "    object_ids = draw_bbox_id_text_confidance(img, result, threshold=0.8)\n",
    "    object_angles = calculate_angles(img, result)\n",
    "    object_labels = [result[0].names[x.item()] for x in result[0].boxes.data[:, 5]]\n",
    "    \n",
    "    display_img(img)"
   ]
  },
  {
   "cell_type": "code",
   "execution_count": null,
   "metadata": {},
   "outputs": [],
   "source": [
    "print(\"ID\\tCLASS\\t\\tUP-DOWN & LEFT-RIGHT ANGLE\")\n",
    "for id, l, d in zip(object_ids, object_labels, object_angles):\n",
    "    print(id,\"\\t\",l,\"   \",\"\\t\",d)"
   ]
  },
  {
   "cell_type": "markdown",
   "metadata": {},
   "source": [
    "## Local Video"
   ]
  },
  {
   "cell_type": "code",
   "execution_count": null,
   "metadata": {},
   "outputs": [],
   "source": [
    "video_path = './YOLO_test_videos/video1.webm'\n",
    "cap = cv.VideoCapture(video_path)\n",
    "\n",
    "if not cap.isOpened():\n",
    "    print(\"Error: Could not open video file.\")\n",
    "    exit()\n",
    "\n",
    "fps = 5\n",
    "threshold = 0.8\n",
    "frame_interval = 1 / fps\n",
    "\n",
    "while True:\n",
    "    start_time = time.time()\n",
    "    ret, img = cap.read()\n",
    "    if not ret:\n",
    "        break\n",
    "\n",
    "    result = model(img)\n",
    "\n",
    "    wanted_objects = result[0].boxes.data[:,4] > threshold\n",
    "    annotated_frame = result[0][wanted_objects].plot()\n",
    "    \n",
    "    \"\"\" Calculating angle, label etc.\n",
    "    object_ids = draw_bbox_id_text_confidance(img, result, threshold=0.8)\n",
    "    object_angles = calculate_angles(img, result)\n",
    "    object_labels = [result[0].names[x.item()] for x in result[0].boxes.data[:, 5]]\n",
    "    \"\"\"    \n",
    "\n",
    "    cv.namedWindow('result', cv.WINDOW_NORMAL)\n",
    "    cv.imshow('result', annotated_frame)\n",
    "\n",
    "    if cv.waitKey(1) & 0xFF == ord('q'):\n",
    "        break\n",
    "\n",
    "    elapsed_time = time.time() - start_time\n",
    "    time_to_wait = max(0, frame_interval - elapsed_time)\n",
    "    time.sleep(time_to_wait)\n",
    "\n",
    "cap.release()\n",
    "cv.destroyAllWindows()"
   ]
  }
 ],
 "metadata": {
  "kernelspec": {
   "display_name": "Python 3.10.6 64-bit",
   "language": "python",
   "name": "python3"
  },
  "language_info": {
   "codemirror_mode": {
    "name": "ipython",
    "version": 3
   },
   "file_extension": ".py",
   "mimetype": "text/x-python",
   "name": "python",
   "nbconvert_exporter": "python",
   "pygments_lexer": "ipython3",
   "version": "3.9.13"
  },
  "orig_nbformat": 4,
  "vscode": {
   "interpreter": {
    "hash": "916dbcbb3f70747c44a77c7bcd40155683ae19c65e1c03b4aa3499c5328201f1"
   }
  }
 },
 "nbformat": 4,
 "nbformat_minor": 2
}
